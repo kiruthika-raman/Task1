{
  "nbformat": 4,
  "nbformat_minor": 0,
  "metadata": {
    "colab": {
      "provenance": []
    },
    "kernelspec": {
      "name": "python3",
      "display_name": "Python 3"
    },
    "language_info": {
      "name": "python"
    }
  },
  "cells": [
    {
      "cell_type": "code",
      "execution_count": 1,
      "metadata": {
        "id": "69BP1fgF6pxg"
      },
      "outputs": [],
      "source": [
        "import pandas as pd"
      ]
    },
    {
      "cell_type": "code",
      "source": [
        "filepath = r\"/content/Titanic-Dataset.csv\"\n",
        "try :\n",
        "  df = pd.read_csv(filepath)\n",
        "  print(\"Dataset loaded successfully\")\n",
        "except FileNotFoundError :\n",
        "  print(\"Try again. File path does not exist\")"
      ],
      "metadata": {
        "colab": {
          "base_uri": "https://localhost:8080/"
        },
        "id": "-tdUf-QA77zj",
        "outputId": "dddd09ed-3ad3-482f-a032-77f65b6bf02c"
      },
      "execution_count": 8,
      "outputs": [
        {
          "output_type": "stream",
          "name": "stdout",
          "text": [
            "Dataset loaded successfully\n"
          ]
        }
      ]
    },
    {
      "cell_type": "code",
      "source": [
        "print(df.head()) #first 5 rows"
      ],
      "metadata": {
        "colab": {
          "base_uri": "https://localhost:8080/"
        },
        "collapsed": true,
        "id": "cNb-cJw3-t71",
        "outputId": "734ec7fe-43a3-40ae-bb1b-7cd32972b7d3"
      },
      "execution_count": 33,
      "outputs": [
        {
          "output_type": "stream",
          "name": "stdout",
          "text": [
            "   PassengerId  Survived  Pclass  \\\n",
            "0            1         0       3   \n",
            "1            2         1       1   \n",
            "2            3         1       3   \n",
            "3            4         1       1   \n",
            "4            5         0       3   \n",
            "\n",
            "                                                Name     Sex   Age  SibSp  \\\n",
            "0                            Braund, Mr. Owen Harris    male  22.0      1   \n",
            "1  Cumings, Mrs. John Bradley (Florence Briggs Th...  female  38.0      1   \n",
            "2                             Heikkinen, Miss. Laina  female  26.0      0   \n",
            "3       Futrelle, Mrs. Jacques Heath (Lily May Peel)  female  35.0      1   \n",
            "4                           Allen, Mr. William Henry    male  35.0      0   \n",
            "\n",
            "   Parch            Ticket     Fare Embarked  \n",
            "0      0         A/5 21171   7.2500        S  \n",
            "1      0          PC 17599  71.2833        C  \n",
            "2      0  STON/O2. 3101282   7.9250        S  \n",
            "3      0            113803  53.1000        S  \n",
            "4      0            373450   8.0500        S  \n"
          ]
        }
      ]
    },
    {
      "cell_type": "code",
      "source": [
        "print(df.info()) #table contents"
      ],
      "metadata": {
        "collapsed": true,
        "id": "xKMKQLtu-6H1"
      },
      "execution_count": null,
      "outputs": []
    },
    {
      "cell_type": "code",
      "source": [
        "print(df.isnull().sum()) #sum of null values"
      ],
      "metadata": {
        "collapsed": true,
        "id": "HX36bIy8_CEP"
      },
      "execution_count": null,
      "outputs": []
    },
    {
      "cell_type": "code",
      "source": [
        "age_median  = df['Age'].median()\n",
        "print(age_median)\n",
        "df['Age'].fillna(age_median, inplace = True)\n",
        "print(df.isnull().sum())"
      ],
      "metadata": {
        "collapsed": true,
        "id": "OrWwhZOa_1Lf"
      },
      "execution_count": null,
      "outputs": []
    },
    {
      "cell_type": "code",
      "source": [
        "freq = df['Embarked'].mode()[0]\n",
        "print(freq)\n",
        "df['Embarked'].fillna(freq, inplace=True)\n",
        "print(df.isnull().sum())"
      ],
      "metadata": {
        "id": "Raxh2gqGBFJR"
      },
      "execution_count": null,
      "outputs": []
    },
    {
      "cell_type": "code",
      "source": [
        "categorical_colmns = ['Sex','Embarked']\n",
        "df = pd.get_dummies(df,columns=categorical_colmns , drop_first=True) #ste true/false based on alphabetical order\n",
        "print(df.head())"
      ],
      "metadata": {
        "id": "OwZAgB_-DGVr"
      },
      "execution_count": null,
      "outputs": []
    },
    {
      "cell_type": "code",
      "source": [
        "from sklearn.preprocessing import StandardScaler\n",
        "scaling = ['Age','Fare']\n",
        "scaler = StandardScaler()\n",
        "df[scaling]=scaler.fit_transform(df[scaling])\n",
        "print(df[scaling].describe()) # mean near to 0 , SD near to 1"
      ],
      "metadata": {
        "colab": {
          "base_uri": "https://localhost:8080/"
        },
        "collapsed": true,
        "id": "ZXAowL_eFJ3q",
        "outputId": "06d18ed0-a1c8-4479-f665-ab4ecff928e2"
      },
      "execution_count": 36,
      "outputs": [
        {
          "output_type": "stream",
          "name": "stdout",
          "text": [
            "                Age          Fare\n",
            "count  8.910000e+02  8.910000e+02\n",
            "mean   2.272780e-16  3.987333e-18\n",
            "std    1.000562e+00  1.000562e+00\n",
            "min   -2.224156e+00 -6.484217e-01\n",
            "25%   -5.657365e-01 -4.891482e-01\n",
            "50%   -1.046374e-01 -3.573909e-01\n",
            "75%    4.333115e-01 -2.424635e-02\n",
            "max    3.891554e+00  9.667167e+00\n"
          ]
        }
      ]
    },
    {
      "cell_type": "code",
      "source": [
        "import seaborn as sns\n",
        "import matplotlib.pyplot as plt\n",
        "sns.boxplot(x=df['Fare'])\n",
        "plt.show() #before outliers"
      ],
      "metadata": {
        "id": "GGtaJaAgGf1n"
      },
      "execution_count": null,
      "outputs": []
    },
    {
      "cell_type": "code",
      "source": [
        "print(f\"Original number of rows: {len(df)}\")\n",
        "Q1 = df['Fare'].quantile(0.25)\n",
        "Q3 = df['Fare'].quantile(0.75)\n",
        "IQR = Q3 - Q1\n",
        "\n",
        "lower_bound = Q1 - 1.5 * IQR\n",
        "upper_bound = Q3 + 1.5 * IQR\n",
        "df = df[(df['Fare'] >= lower_bound) & (df['Fare'] <= upper_bound)]\n",
        "\n",
        "print(f\"Number of rows after removing outliers: {len(df)}\")\n",
        "#after removing outliers\n",
        "sns.boxplot(x=df['Fare'])\n",
        "plt.show()"
      ],
      "metadata": {
        "colab": {
          "base_uri": "https://localhost:8080/",
          "height": 484
        },
        "collapsed": true,
        "id": "1yMp8UxHG8O-",
        "outputId": "f6c5d2a7-7c7d-41eb-a6e4-bf5dadee870c"
      },
      "execution_count": 39,
      "outputs": [
        {
          "output_type": "stream",
          "name": "stdout",
          "text": [
            "Original number of rows: 891\n",
            "Number of rows after removing outliers: 775\n"
          ]
        },
        {
          "output_type": "display_data",
          "data": {
            "text/plain": [
              "<Figure size 640x480 with 1 Axes>"
            ],
            "image/png": "[encoded data removed]"
          },
          "metadata": {}
        }
      ]
    }
  ]
}